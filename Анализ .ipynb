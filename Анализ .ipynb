{
  "nbformat": 4,
  "nbformat_minor": 0,
  "metadata": {
    "colab": {
      "provenance": [],
      "authorship_tag": "ABX9TyOaT71BwO81Jzgy06bCuY8h",
      "include_colab_link": true
    },
    "kernelspec": {
      "name": "python3",
      "display_name": "Python 3"
    },
    "language_info": {
      "name": "python"
    }
  },
  "cells": [
    {
      "cell_type": "markdown",
      "metadata": {
        "id": "view-in-github",
        "colab_type": "text"
      },
      "source": [
        "<a href=\"https://colab.research.google.com/github/Aman678-ops/-Soft-Skills/blob/main/%D0%90%D0%BD%D0%B0%D0%BB%D0%B8%D0%B7%20.ipynb\" target=\"_parent\"><img src=\"https://colab.research.google.com/assets/colab-badge.svg\" alt=\"Open In Colab\"/></a>"
      ]
    },
    {
      "cell_type": "code",
      "source": [
        "from google.colab import files\n",
        "uploaded = files.upload()"
      ],
      "metadata": {
        "id": "mjzk3oX8lK9F"
      },
      "execution_count": null,
      "outputs": []
    },
    {
      "cell_type": "code",
      "source": [
        "pd.read_csv('insurance.csv')  # Файл находится в той же папке\n"
      ],
      "metadata": {
        "id": "I5vwBnIFmGaF"
      },
      "execution_count": null,
      "outputs": []
    },
    {
      "cell_type": "code",
      "source": [
        "print(df.head())  # Выведет первые 5 строк\n",
        "print(df.columns) # Выведет список названий столбцов"
      ],
      "metadata": {
        "id": "3omMLSnknaB_"
      },
      "execution_count": null,
      "outputs": []
    },
    {
      "cell_type": "code",
      "source": [
        "import seaborn as sns\n",
        "import matplotlib.pyplot as plt\n",
        "\n",
        "sns.histplot(df['age'], bins=20, kde=True)  # kde=True рисует линию плотности\n",
        "plt.xlabel('Возраст')\n",
        "plt.ylabel('Количество')\n",
        "plt.title('Распределение возраста')\n",
        "plt.show()\n"
      ],
      "metadata": {
        "id": "Gx1jUo9Lnd8v"
      },
      "execution_count": null,
      "outputs": []
    }
  ]
}